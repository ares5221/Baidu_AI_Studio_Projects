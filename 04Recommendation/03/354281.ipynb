{
 "cells": [
  {
   "cell_type": "markdown",
   "metadata": {
    "collapsed": false
   },
   "source": [
    "训练并保存好模型，我们可以开始实践电影推荐了，推荐方式可以有多种，比如：\n",
    "1. 根据一个电影推荐其相似的电影。\n",
    "2. 根据用户的喜好，推荐其可能喜欢的电影。\n",
    "3. 给指定用户推荐和其喜好相似的其他用户喜欢的电影。\n",
    "\n",
    "\n",
    "这里我们实现第二种推荐方式，另外两种留作实践作业。\n",
    "\n",
    "# 根据用户喜好推荐电影 \n",
    "\n",
    "在前面章节，我们已经完成了神经网络的设计，并根据用户对电影的喜好（评分高低）作为训练指标完成训练。神经网络有两个输入，用户数据和电影数据，通过神经网络提取用户特征和电影特征，并计算特征之间的相似度，相似度的大小和用户对该电影的评分存在对应关系。即如果用户对这个电影感兴趣，那么对这个电影的评分也是偏高的，最终神经网络输出的相似度就更大一些。完成训练后，我们就可以开始给用户推荐电影了。\n",
    "\n",
    "根据用户喜好推荐电影，是通过计算用户特征和电影特征之间的相似性，并排序选取相似度最大的结果来进行推荐，流程如下：\n",
    "\n",
    "\n",
    "<center><img src=\"https://ai-studio-static-online.cdn.bcebos.com/0f2b480e9b174e78a9ed61d53357265b8a02f2c2dab146b0b0092b9731d07f44\" width=\"600\" ></center>\n",
    "\n",
    "\n",
    "\n",
    "从计算相似度到完成推荐的过程，步骤包括：\n",
    "\n",
    "1. 读取保存的特征，根据一个给定的用户ID、电影ID，我们可以索引到对应的特征向量。\n",
    "2. 通过计算用户特征和其他电影特征向量的相似度，构建相似度矩阵。\n",
    "3. 对这些相似度排序后，选取相似度最大的几个特征向量，找到对应的电影ID，即得到推荐清单。\n",
    "4. 加入随机选择因素，从相似度最大的top_k结果中随机选取pick_num个推荐结果，其中pick_num必须小于top_k。\n",
    "\n"
   ]
  },
  {
   "cell_type": "markdown",
   "metadata": {
    "collapsed": false
   },
   "source": [
    "## 1. 索引特征向量"
   ]
  },
  {
   "cell_type": "markdown",
   "metadata": {
    "collapsed": false
   },
   "source": [
    "上一节我们已经训练好模型，并保存了电影特征，因此可以不用经过计算特征的步骤，直接读取特征。\n",
    "特征以字典的形式保存，字典的键值是用户或者电影的ID，字典的元素是该用户或电影的特征向量。\n",
    "\n",
    "下面实现根据指定的用户ID和电影ID，索引到对应的特征向量。"
   ]
  },
  {
   "cell_type": "code",
   "execution_count": 4,
   "metadata": {
    "collapsed": false
   },
   "outputs": [
    {
     "name": "stdout",
     "output_type": "stream",
     "text": [
      "Archive:  save_feat.zip\n",
      "  inflating: mov_feat.pkl            \n",
      "  inflating: usr_feat.pkl            \n",
      "  inflating: usr_mov_score.pkl       \n"
     ]
    }
   ],
   "source": [
    "! unzip -o save_feat.zip\r\n",
    "# 解压数据集\r\n",
    "!cd work && unzip -o -q ml-1m.zip"
   ]
  },
  {
   "cell_type": "code",
   "execution_count": 5,
   "metadata": {
    "collapsed": false
   },
   "outputs": [
    {
     "name": "stdout",
     "output_type": "stream",
     "text": [
      "当前的用户是：\n",
      "usr_id: 2 ['2', 'M', '56', '16', '70072']\n",
      "对应的特征是： [[ 0.82099235  0.8586694   0.73383933 -0.81170774  0.5422718   0.85146594\n",
      "   0.49067816 -0.7309375  -0.97378874 -0.67336637  0.9884427   0.8318493\n",
      "  -0.9480754  -0.571769    0.9993293  -0.0471548  -0.6981635  -0.9628869\n",
      "   0.98516     0.86791056 -0.97822887  0.23203073  0.99360627  0.8336366\n",
      "   0.92634815 -0.9960826   0.35231304 -0.87815917  0.9900387  -0.659817\n",
      "  -0.9447336   0.6504668   0.8883456  -0.89861405  0.1369281   0.9296496\n",
      "  -0.98565185 -0.7689331  -0.80501044  0.6599651  -0.9685637   0.8973525\n",
      "   0.9465236   0.4054804  -0.96875757  0.11594704  0.9801789   0.9902853\n",
      "  -0.19490258 -0.99616784 -0.99921834  0.84868973  0.51719064 -0.9705402\n",
      "  -0.8649955   0.9150717  -0.85734487 -0.39090145 -0.84230226  0.8593513\n",
      "   0.99892277  0.9065558   0.603077   -0.62137085  0.98878056  0.49329233\n",
      "  -0.11620265 -0.8319852  -0.6307086   0.91288877 -0.8456422   0.99110353\n",
      "   0.53621733  0.9741869   0.9785265  -0.9995414   0.33125934 -0.99941105\n",
      "   0.9650687  -0.981728    0.07540476 -0.74948466  0.7744711  -0.34338668\n",
      "  -0.17170744 -0.9645686  -0.96613854  0.45812282  0.9752644   0.3175273\n",
      "   0.97649574  0.6033954  -0.86334246  0.39382228  0.61591476  0.9849057\n",
      "   0.998013    0.7146917  -0.5445561   0.7478155   0.6177172  -0.43331394\n",
      "   0.85753995 -0.9291761   0.98042506 -0.8003144  -0.99088365 -0.9060779\n",
      "   0.14875911 -0.01912932 -0.82145566  0.01547901  0.99063903  0.9710014\n",
      "   0.82078373  0.8022434  -0.53574383 -0.9970726   0.7888814   0.8660845\n",
      "  -0.63057286  0.9648644   0.39337084 -0.8208713   0.5860115  -0.51856136\n",
      "  -0.9445387  -0.95369506 -0.98849434  0.9858573   0.8045606   0.18623284\n",
      "   0.11442823  0.82477343 -0.5708887   0.98786914 -0.01048034 -0.79426265\n",
      "  -0.6100498  -0.93075305 -0.8586834   0.7880095  -0.9997859  -0.4297683\n",
      "  -0.73904514 -0.48578563 -0.4529496  -0.25328565  0.9718598  -0.96588296\n",
      "  -0.77071095  0.92033553 -0.9301468  -0.7047243  -0.93612236  0.43840522\n",
      "   0.18400794 -0.8784731   0.47797686  0.9796208   0.9363464  -0.8606323\n",
      "   0.27585763  0.9793921   0.37258607  0.9798181   0.5148756   0.72021705\n",
      "   0.97918224  0.98044795 -0.8711549  -0.1153243   0.986909    0.9298343\n",
      "   0.90898716 -0.45026916  0.47400376 -0.36635742  0.00134162 -0.1442509\n",
      "   0.8707001   0.87846506 -0.81204206  0.06981176 -0.9593224   0.06882026\n",
      "  -0.9758865  -0.613907    0.796953    0.87958086  0.91078436 -0.8778844\n",
      "   0.9894927   0.7921248   0.60711     0.49491045  0.98101234 -0.6462424\n",
      "  -0.9818155   0.98503566]]\n",
      "\n",
      "当前电影是：\n",
      "mov_id: 1 ['1', 'Toy Story (1995)', \"Animation|Children's|Comedy\"]\n",
      "对应的特征是：\n",
      "[[ 1.          0.9947282   0.9892409  -0.9941792   0.99997437  0.9997521\n",
      "   0.9999917  -1.         -0.99999523 -0.84260464  0.9999413   0.99876475\n",
      "  -0.266118   -0.99902344  0.9999995   0.95428187 -0.9970653  -0.9999995\n",
      "   0.9999946   0.99999905 -0.99951863  0.9943044   0.9998966   0.9999745\n",
      "   0.943457   -0.9999986  -0.9997796  -0.99999744  0.9999999  -0.9992247\n",
      "  -0.999997    0.99992853  0.92203563 -1.         -0.99999225  0.99999905\n",
      "   0.99722177 -0.84295887 -0.9983118   0.99998695 -0.21320122  0.59474015\n",
      "  -0.9899699   0.9999981  -0.99973947  0.99843425  0.9999999   1.\n",
      "   0.9988879  -0.9999248  -1.          0.9997734   0.91359574 -0.999491\n",
      "  -0.9999998   0.9999938   0.8546393  -0.9999976  -0.9905312   0.979307\n",
      "   0.9999999   0.9999803   0.99999785  0.72708005  1.          0.9989355\n",
      "  -0.985589   -0.99999034 -0.9999975   0.99999803  0.23939787  0.99999464\n",
      "   0.9984661   0.9999361   0.9999162  -1.         -0.999941   -0.91940695\n",
      "   0.999986   -0.9995833  -0.9999731  -0.9985327   0.9930674  -0.9995358\n",
      "  -0.982016   -1.         -0.99503046  0.999852    0.995791   -0.99999833\n",
      "   0.9999802   0.9999941  -0.99419737 -0.9999982   0.8342857   0.9999994\n",
      "   1.          0.9999509   0.9988639   0.99997085  0.9999828  -0.9989129\n",
      "   0.2643517  -0.9917274   0.9865461  -0.93254465 -0.9996232   0.99734116\n",
      "   0.8531439   0.99999493  0.5327173   0.99714303  0.9997224   0.99994314\n",
      "  -0.24769738 -0.77171403 -0.90261286 -0.9999951   0.99996483  0.99946994\n",
      "  -0.82388145  0.9809252   0.99490094 -0.9996327   0.97382116  0.9999257\n",
      "  -0.9994338  -1.         -0.9999977   0.99921125  0.9999033  -0.21286221\n",
      "  -0.9961758   0.9931871   0.08871581 -0.8442687  -0.99303746 -0.9992437\n",
      "  -0.99097323 -0.99985826 -0.99999976  0.99882007 -0.9999998  -0.9977317\n",
      "  -0.99901265 -0.999963   -0.97089905 -0.69714606  0.9999999  -0.99999976\n",
      "  -0.9999977   0.9195584  -0.99244237  0.9996049  -0.9999854  -0.99999803\n",
      "  -0.99999976 -0.99994326  1.          1.          0.9972403  -0.99994105\n",
      "   0.939083    0.9945683   0.9999851   0.99585736  0.96195674  1.\n",
      "   0.8908052   0.9996129  -0.9642052  -0.98566216  0.9999988   0.9924623\n",
      "   0.998006   -0.9700131   0.97430927 -0.99999094 -0.70255435 -0.9981952\n",
      "   1.          0.9982232  -0.9931884   0.99258333 -0.99999964  0.99202436\n",
      "  -0.99999714 -0.98510253  0.9999074   0.18102032  0.9998867  -0.9974681\n",
      "   0.99999404  0.8831661  -0.9999993  -0.99598014  0.99930006 -0.9999032\n",
      "  -0.9999968   0.9992701 ]]\n"
     ]
    }
   ],
   "source": [
    "import pickle \n",
    "import numpy as np\n",
    "\n",
    "mov_feat_dir = 'mov_feat.pkl'\n",
    "usr_feat_dir = 'usr_feat.pkl'\n",
    "\n",
    "usr_feats = pickle.load(open(usr_feat_dir, 'rb'))\n",
    "mov_feats = pickle.load(open(mov_feat_dir, 'rb'))\n",
    "\n",
    "usr_id = 2\n",
    "usr_feat = usr_feats[str(usr_id)]\n",
    "\n",
    "mov_id = 1\n",
    "# 通过电影ID索引到电影特征\n",
    "mov_feat = mov_feats[str(mov_id)]\n",
    "\n",
    "# 电影特征的路径\n",
    "movie_data_path = \"./work/ml-1m/movies.dat\"\n",
    "mov_info = {}\n",
    "# 打开电影数据文件，根据电影ID索引到电影信息\n",
    "with open(movie_data_path, 'r', encoding=\"ISO-8859-1\") as f:\n",
    "    data = f.readlines()\n",
    "    for item in data:\n",
    "        item = item.strip().split(\"::\")\n",
    "        mov_info[str(item[0])] = item\n",
    "\n",
    "usr_file = \"./work/ml-1m/users.dat\"\n",
    "usr_info = {}\n",
    "# 打开文件，读取所有行到data中\n",
    "with open(usr_file, 'r') as f:\n",
    "    data = f.readlines()\n",
    "    for item in data:\n",
    "        item = item.strip().split(\"::\")\n",
    "        usr_info[str(item[0])] = item\n",
    "\n",
    "print(\"当前的用户是：\")\n",
    "print(\"usr_id:\", usr_id, usr_info[str(usr_id)])   \n",
    "print(\"对应的特征是：\", usr_feats[str(usr_id)])\n",
    "\n",
    "print(\"\\n当前电影是：\")\n",
    "print(\"mov_id:\", mov_id, mov_info[str(mov_id)])\n",
    "print(\"对应的特征是：\")\n",
    "print(mov_feat)\n"
   ]
  },
  {
   "cell_type": "markdown",
   "metadata": {
    "collapsed": false
   },
   "source": [
    "以上代码中，我们索引到 usr_id = 2 的用户特征向量，以及 mov_id = 1 的电影特征向量。"
   ]
  },
  {
   "cell_type": "markdown",
   "metadata": {
    "collapsed": false
   },
   "source": [
    "## 2. 计算用户和所有电影的相似度，构建相似度矩阵\n",
    "\n",
    "如下代码均以向 userid = 2 的用户推荐电影为例。与训练一致，以余弦相似度作为相似度衡量。"
   ]
  },
  {
   "cell_type": "code",
   "execution_count": 6,
   "metadata": {
    "collapsed": false
   },
   "outputs": [
    {
     "name": "stdout",
     "output_type": "stream",
     "text": [
      "电影特征形状：[1, 200], 用户特征形状：[1, 200], 相似度结果形状：(1, 1)，相似度结果：[[0.7520796]]\n"
     ]
    }
   ],
   "source": [
    "import paddle.fluid as fluid\n",
    "import paddle.fluid.dygraph as dygraph\n",
    "\n",
    "# 根据用户ID获得该用户的特征\n",
    "usr_ID = 2\n",
    "# 读取保存的用户特征\n",
    "usr_feat_dir = 'usr_feat.pkl'\n",
    "usr_feats = pickle.load(open(usr_feat_dir, 'rb'))\n",
    "# 根据用户ID索引到该用户的特征\n",
    "usr_ID_feat = usr_feats[str(usr_ID)]\n",
    "\n",
    "# 记录计算的相似度\n",
    "cos_sims = []\n",
    "# 记录下与用户特征计算相似的电影顺序\n",
    "\n",
    "with dygraph.guard():\n",
    "    # 索引电影特征，计算和输入用户ID的特征的相似度\n",
    "    for idx, key in enumerate(mov_feats.keys()):\n",
    "        mov_feat = mov_feats[key]\n",
    "        usr_feat = dygraph.to_variable(usr_ID_feat)\n",
    "        mov_feat = dygraph.to_variable(mov_feat)\n",
    "        \n",
    "        # 计算余弦相似度\n",
    "        sim = fluid.layers.cos_sim(usr_feat, mov_feat)\n",
    "        # 打印特征和相似度的形状\n",
    "        if idx==0:\n",
    "            print(\"电影特征形状：{}, 用户特征形状：{}, 相似度结果形状：{}，相似度结果：{}\".format(mov_feat.shape, usr_feat.shape, sim.numpy().shape, sim.numpy()))\n",
    "        # 从形状为（1，1）的相似度sim中获得相似度值sim.numpy()[0][0]，并添加到相似度列表cos_sims中\n",
    "        cos_sims.append(sim.numpy()[0][0])\n",
    "\n"
   ]
  },
  {
   "cell_type": "markdown",
   "metadata": {
    "collapsed": false
   },
   "source": [
    "## 3. 对相似度排序，选出最大相似度\n",
    "\n",
    "使用np.argsort（）函数完成从小到大的排序，注意返回值是原列表位置下标的数组。因为cos_sims 和 mov_feats.keys()的顺序一致，所以均可以用index数组的内容索引，获取相似度最大的相似度值和对应电影。\n",
    "\n",
    "处理流程是先计算相似度列表 cos_sims，将其排序后返回对应的下标列表 index，最后从cos_sims和mov_info中取出相似度值和对应的电影信息。"
   ]
  },
  {
   "cell_type": "code",
   "execution_count": 7,
   "metadata": {
    "collapsed": false
   },
   "outputs": [
    {
     "name": "stdout",
     "output_type": "stream",
     "text": [
      "相似度最大的前5个索引是[2919 2533 2232 2031   38]\n",
      "对应的相似度是：[0.8498355, 0.8506622, 0.8523511, 0.8589665, 0.8604083]\n",
      "\n",
      "对应的电影分别是：movie:['2075', 'Mephisto (1981)', 'Drama|War']\n",
      "对应的电影分别是：movie:['3853', 'Tic Code, The (1998)', 'Drama']\n",
      "对应的电影分别是：movie:['1260', 'M (1931)', 'Crime|Film-Noir|Thriller']\n",
      "对应的电影分别是：movie:['3134', 'Grand Illusion (Grande illusion, La) (1937)', 'Drama|War']\n",
      "对应的电影分别是：movie:['2762', 'Sixth Sense, The (1999)', 'Thriller']\n"
     ]
    }
   ],
   "source": [
    "\n",
    "# 3. 对相似度排序，获得最大相似度在cos_sims中的位置\n",
    "index = np.argsort(cos_sims)\n",
    "# 打印相似度最大的前topk个位置\n",
    "topk = 5\n",
    "print(\"相似度最大的前{}个索引是{}\\n对应的相似度是：{}\\n\".format(topk, index[-topk:], [cos_sims[k] for k in index[-topk:]]))\n",
    "\n",
    "for i in index[-topk:]:    \n",
    "    print(\"对应的电影分别是：movie:{}\".format(mov_info[list(mov_feats.keys())[i]]))"
   ]
  },
  {
   "cell_type": "markdown",
   "metadata": {
    "collapsed": false
   },
   "source": [
    "以上结果可以看出，给用户推荐的电影多是Drama、War、Thriller类型的电影。\n",
    "\n",
    "是不是到这里就可以把结果推荐给用户了？还有一个小步骤我们继续往下看。"
   ]
  },
  {
   "cell_type": "markdown",
   "metadata": {
    "collapsed": false
   },
   "source": [
    "## 4. 推荐时加入随机选择因素\n",
    "\n",
    "为了确保推荐的多样性，维持用户阅读推荐内容的“新鲜感”，每次推荐的结果需要有所不同，我们随机抽取top_k结果中的一部分，作为给用户的推荐。比如从相似度排序中获取10个结果，每次随机抽取6个结果推荐给用户。\n",
    "\n",
    "使用np.random.choice函数实现随机从top K中选择一个未被选的电影，不断选择直到选择列表res长度达到pick_num为止，其中pick_num必须小于top_k。\n",
    "\n",
    "读者可以反复运行本段代码，观测推荐结果是否不同。\n",
    "\n",
    "代码实现如下："
   ]
  },
  {
   "cell_type": "code",
   "execution_count": 8,
   "metadata": {
    "collapsed": false
   },
   "outputs": [
    {
     "name": "stdout",
     "output_type": "stream",
     "text": [
      "当前的用户是：\n",
      "usr_id: 2 ['2', 'M', '56', '16', '70072']\n",
      "推荐可能喜欢的电影是：\n",
      "mov_id: 2075 ['2075', 'Mephisto (1981)', 'Drama|War']\n",
      "mov_id: 1272 ['1272', 'Patton (1970)', 'Drama|War']\n",
      "mov_id: 3468 ['3468', 'Hustler, The (1961)', 'Drama']\n",
      "mov_id: 1260 ['1260', 'M (1931)', 'Crime|Film-Noir|Thriller']\n",
      "mov_id: 2762 ['2762', 'Sixth Sense, The (1999)', 'Thriller']\n",
      "mov_id: 3730 ['3730', 'Conversation, The (1974)', 'Drama|Mystery']\n"
     ]
    }
   ],
   "source": [
    "top_k, pick_num = 10, 6\n",
    "\n",
    "# 3. 对相似度排序，获得最大相似度在cos_sims中的位置\n",
    "index = np.argsort(cos_sims)[-top_k:]\n",
    "\n",
    "print(\"当前的用户是：\")\n",
    "# usr_id, usr_info 是前面定义、读取的用户ID、用户信息\n",
    "print(\"usr_id:\", usr_id, usr_info[str(usr_id)])   \n",
    "print(\"推荐可能喜欢的电影是：\")\n",
    "res = []\n",
    "\n",
    "# 加入随机选择因素，确保每次推荐的结果稍有差别\n",
    "while len(res) < pick_num:\n",
    "    val = np.random.choice(len(index), 1)[0]\n",
    "    idx = index[val]\n",
    "    mov_id = list(mov_feats.keys())[idx]\n",
    "    if mov_id not in res:\n",
    "        res.append(mov_id)\n",
    "\n",
    "for id in res:\n",
    "    print(\"mov_id:\", id, mov_info[str(id)])\n"
   ]
  },
  {
   "cell_type": "markdown",
   "metadata": {
    "collapsed": false
   },
   "source": [
    "最后，我们将根据用户ID推荐电影的实现封装成一个函数，方便直接调用，其函数实现如下。"
   ]
  },
  {
   "cell_type": "code",
   "execution_count": 9,
   "metadata": {
    "collapsed": false
   },
   "outputs": [],
   "source": [
    "# 定义根据用户兴趣推荐电影\n",
    "def recommend_mov_for_usr(usr_id, top_k, pick_num, usr_feat_dir, mov_feat_dir, mov_info_path):\n",
    "    assert pick_num <= top_k\n",
    "    # 读取电影和用户的特征\n",
    "    usr_feats = pickle.load(open(usr_feat_dir, 'rb'))\n",
    "    mov_feats = pickle.load(open(mov_feat_dir, 'rb'))\n",
    "    usr_feat = usr_feats[str(usr_id)]\n",
    "\n",
    "    cos_sims = []\n",
    "\n",
    "    with dygraph.guard():\n",
    "        # 索引电影特征，计算和输入用户ID的特征的相似度\n",
    "        for idx, key in enumerate(mov_feats.keys()):\n",
    "            mov_feat = mov_feats[key]\n",
    "            usr_feat = dygraph.to_variable(usr_feat)\n",
    "            mov_feat = dygraph.to_variable(mov_feat)\n",
    "            sim = fluid.layers.cos_sim(usr_feat, mov_feat)\n",
    "            cos_sims.append(sim.numpy()[0][0])\n",
    "    # 对相似度排序\n",
    "    index = np.argsort(cos_sims)[-top_k:]\n",
    "\n",
    "    mov_info = {}\n",
    "    # 读取电影文件里的数据，根据电影ID索引到电影信息\n",
    "    with open(mov_info_path, 'r', encoding=\"ISO-8859-1\") as f:\n",
    "        data = f.readlines()\n",
    "        for item in data:\n",
    "            item = item.strip().split(\"::\")\n",
    "            mov_info[str(item[0])] = item\n",
    "            \n",
    "    print(\"当前的用户是：\")\n",
    "    print(\"usr_id:\", usr_id)\n",
    "    print(\"推荐可能喜欢的电影是：\")\n",
    "    res = []\n",
    "    \n",
    "    # 加入随机选择因素，确保每次推荐的都不一样\n",
    "    while len(res) < pick_num:\n",
    "        val = np.random.choice(len(index), 1)[0]\n",
    "        idx = index[val]\n",
    "        mov_id = list(mov_feats.keys())[idx]\n",
    "        if mov_id not in res:\n",
    "            res.append(mov_id)\n",
    "\n",
    "    for id in res:\n",
    "        print(\"mov_id:\", id, mov_info[str(id)])\n"
   ]
  },
  {
   "cell_type": "code",
   "execution_count": 10,
   "metadata": {
    "collapsed": false
   },
   "outputs": [
    {
     "name": "stdout",
     "output_type": "stream",
     "text": [
      "当前的用户是：\n",
      "usr_id: 2\n",
      "推荐可能喜欢的电影是：\n",
      "mov_id: 2762 ['2762', 'Sixth Sense, The (1999)', 'Thriller']\n",
      "mov_id: 1263 ['1263', 'Deer Hunter, The (1978)', 'Drama|War']\n",
      "mov_id: 3853 ['3853', 'Tic Code, The (1998)', 'Drama']\n",
      "mov_id: 3134 ['3134', 'Grand Illusion (Grande illusion, La) (1937)', 'Drama|War']\n",
      "mov_id: 3468 ['3468', 'Hustler, The (1961)', 'Drama']\n",
      "mov_id: 2075 ['2075', 'Mephisto (1981)', 'Drama|War']\n"
     ]
    }
   ],
   "source": [
    "movie_data_path = \"./work/ml-1m/movies.dat\"\n",
    "top_k, pick_num = 10, 6\n",
    "usr_id = 2\n",
    "recommend_mov_for_usr(usr_id, top_k, pick_num, 'usr_feat.pkl', 'mov_feat.pkl', movie_data_path)"
   ]
  },
  {
   "cell_type": "markdown",
   "metadata": {
    "collapsed": false
   },
   "source": [
    "从上面的推荐结果来看，给ID为2的用户推荐的电影多是Drama、War类型的。我们可以通过用户的ID从已知的评分数据中找到其评分最高的电影，观察和推荐结果的区别。\n",
    "\n",
    "下面代码实现给定用户ID，输出其评分最高的topk个电影信息，通过对比用户评分最高的电影和当前推荐的电影结果，观察推荐是否有效。"
   ]
  },
  {
   "cell_type": "code",
   "execution_count": 11,
   "metadata": {
    "collapsed": false
   },
   "outputs": [
    {
     "name": "stdout",
     "output_type": "stream",
     "text": [
      "ID为 2 的用户，评分过的电影数量是:  129\n",
      "电影ID: 380，评分是: 5.0, 电影信息: ['380', 'True Lies (1994)', 'Action|Adventure|Comedy|Romance']\n",
      "电影ID: 2501，评分是: 5.0, 电影信息: ['2501', 'October Sky (1999)', 'Drama']\n",
      "电影ID: 920，评分是: 5.0, 电影信息: ['920', 'Gone with the Wind (1939)', 'Drama|Romance|War']\n",
      "电影ID: 2002，评分是: 5.0, 电影信息: ['2002', 'Lethal Weapon 3 (1992)', 'Action|Comedy|Crime|Drama']\n",
      "电影ID: 1962，评分是: 5.0, 电影信息: ['1962', 'Driving Miss Daisy (1989)', 'Drama']\n",
      "电影ID: 1784，评分是: 5.0, 电影信息: ['1784', 'As Good As It Gets (1997)', 'Comedy|Drama']\n",
      "电影ID: 318，评分是: 5.0, 电影信息: ['318', 'Shawshank Redemption, The (1994)', 'Drama']\n",
      "电影ID: 356，评分是: 5.0, 电影信息: ['356', 'Forrest Gump (1994)', 'Comedy|Romance|War']\n",
      "电影ID: 1246，评分是: 5.0, 电影信息: ['1246', 'Dead Poets Society (1989)', 'Drama']\n",
      "电影ID: 1247，评分是: 5.0, 电影信息: ['1247', 'Graduate, The (1967)', 'Drama|Romance']\n"
     ]
    }
   ],
   "source": [
    "# 给定一个用户ID，找到评分最高的topk个电影\n",
    "\n",
    "usr_a = 2\n",
    "topk = 10\n",
    "\n",
    "##########################################\n",
    "## 获得ID为usr_a的用户评分过的电影及对应评分 ##\n",
    "##########################################\n",
    "rating_path = \"./work/ml-1m/ratings.dat\"\n",
    "# 打开文件，ratings_data\n",
    "with open(rating_path, 'r') as f:\n",
    "    ratings_data = f.readlines()\n",
    "    \n",
    "usr_rating_info = {}\n",
    "for item in ratings_data:\n",
    "    item = item.strip().split(\"::\")\n",
    "    # 处理每行数据，分别得到用户ID，电影ID，和评分\n",
    "    usr_id,movie_id,score = item[0],item[1],item[2]\n",
    "    if usr_id == str(usr_a):\n",
    "        usr_rating_info[movie_id] = float(score)\n",
    "\n",
    "# 获得评分过的电影ID\n",
    "movie_ids = list(usr_rating_info.keys())\n",
    "print(\"ID为 {} 的用户，评分过的电影数量是: \".format(usr_a), len(movie_ids))\n",
    "\n",
    "#####################################\n",
    "## 选出ID为usr_a评分最高的前topk个电影 ##\n",
    "#####################################\n",
    "ratings_topk = sorted(usr_rating_info.items(), key=lambda item:item[1])[-topk:]\n",
    "\n",
    "movie_info_path = \"./work/ml-1m/movies.dat\"\n",
    "# 打开文件，编码方式选择ISO-8859-1，读取所有数据到data中\n",
    "with open(movie_info_path, 'r', encoding=\"ISO-8859-1\") as f:\n",
    "    data = f.readlines()\n",
    "    \n",
    "movie_info = {}\n",
    "for item in data:\n",
    "    item = item.strip().split(\"::\")\n",
    "    # 获得电影的ID信息\n",
    "    v_id = item[0]\n",
    "    movie_info[v_id] = item\n",
    "\n",
    "for k, score in ratings_topk:\n",
    "    print(\"电影ID: {}，评分是: {}, 电影信息: {}\".format(k, score, movie_info[k]))\n",
    "\n"
   ]
  },
  {
   "cell_type": "markdown",
   "metadata": {
    "collapsed": false
   },
   "source": [
    "通过上述代码的输出可以发现，Drama类型的电影是用户喜欢的类型，可见推荐结果和用户喜欢的电影类型是匹配的。但是推荐结果仍有一些不足的地方，这些可以通过改进神经网络模型等来进一步调优。"
   ]
  },
  {
   "cell_type": "markdown",
   "metadata": {
    "collapsed": false
   },
   "source": [
    "# 几点思考收获\n",
    "\n",
    "1. Deep Learning is all about “Embedding Everything”。不难发现，深度学习建模是套路满满的。将任何事物均用向量的方式表示，可以直接基于向量完成“分类”或“回归”任务；也可以计算多个向量之间的关系，无论这种关系是“相似性”还是“比较排序”。在深度学习兴起不久的2015年，当时AI相关的国际学术会议上，大部分论文均是将某个事物Embedding后进行了挖掘，给人的感觉是即使是路边随便看到了一块石头，也要Embedding一下看看是否能挖掘出价值。直到近些年，能够embedding的事物基本都发表过论文，embeddding的方法也变得成熟，这方面的论文才逐渐有减少的趋势。\n",
    "\n",
    "2. 在深度学习兴起之前，不同领域之间的迁移学习往往要用到很多特殊设计的算法。但深度学习兴起后，迁移学习变得尤其自然。训练模型和使用模型未必是同样的方式，中间基于Embedding的向量表示，即可实现不同任务交换信息。例如本章的推荐模型使用用户对电影的评分数据进行监督训练，训练好的特征向量可以用于计算用户与用户的相似度，以及电影与电影之间的相似度。对特征向量的使用可以极其灵活，而不局限于训练时的任务。\n",
    "\n",
    "３.　网络调参：神经网络模型并没有一套理论上可推导的最优规则，实际中的网络设计往往是在理论和经验指导下的“探索”活动。例如推荐模型的每层网络尺寸的设计遵从了信息熵的原则，原始信息量越大对应表示的向量长度就越长。但具体每一层的向量应该有多长，往往是根据实际训练的效果进行调整。所以，建模工程师被称为数据处理工程师和调参工程师是有道理的，大量的精力花费在处理样本数据和模型调参上。\n",
    "\n",
    "<center><img src=\"https://ai-studio-static-online.cdn.bcebos.com/41224b6eb9c943f7bfea150eb9b64681bb66606357c745f98a994672c659a236\" width=\"600\" ></center>\n",
    "\n",
    "\n",
    "\n",
    "<center>图2：推荐模型的网络设计</center>\n",
    "<br>\n",
    "\n",
    "\n",
    "\n"
   ]
  },
  {
   "cell_type": "markdown",
   "metadata": {
    "collapsed": false
   },
   "source": [
    "# 在工业实践中的推荐系统\n",
    "\n",
    "本章介绍了比较简单的推荐系统构建方法，在实际应用中，验证一个推荐系统的好坏，除了预测准确度，还需要考虑多方面的因素，比如多样性、新颖性，甚至商业目标匹配度等。要实践一个好的推荐系统，值得更深入的探索研究。下面将工业实践推荐系统还需要考虑的主要问题做一个概要性的介绍。\n",
    "\n",
    "1.　**推荐来源**：推荐来源会更加多样化，除了使用深度学习模型的方式，还大量使用标签匹配的个性化推荐方式。此外，推荐热门的内容，具有时效性的内容和一定探索性的内容，都非常关键。对于新闻类的内容推荐，用户不希望地球人都在谈论的大事自己毫无所知，期望更快更全面的了解。如果用户经常使用的推荐产品总推荐“老三样”，会使得用户丧失“新鲜感”而流失。通常需要推荐给一些用户喜欢的内容之外，谨慎的推荐一些用户没表达过喜欢的内容，探索用户更广泛的兴趣领域，以便有更多不重复的内容可以向用户推荐。\n",
    "\n",
    "2.　**检索系统**：将推荐系统构建成“召回+排序”架构的高性能检索系统，以更短的特征向量建倒排索引。在“召回＋排序”的架构下，通常会训练出两种不同长度的特征向量，使用较短的特征向量做召回系统，从海量候选中筛选出几十个可能候选。这使用较短的向量做召回，性能高但不够准确。之后使用较长的特征向量做几十个候选的精细排序，因为待排序的候选很少，所以性能低一些也影响不大。\n",
    "\n",
    "3.　**冷启动问题**：现实中推荐系统往往要在产品运营的初期一起上线，但这时候系统尚没有用户行为数据的积累。这时，我们往往建立一套专家经验的规则系统，比如一个在美妆行业工作的店小二会知道什么样的女性喜欢什么样的化妆品。通过规则系统运行一段时间积累数据后，再逐渐转向机器学习的系统。很多推荐系统也会主动向用户收集一些信息，比如大家注册一些资讯类APP时，经常会要求选择一些兴趣标签。\n",
    "\n",
    "4.　**推荐系统的评估**：推荐系统的评估不仅是计算模型Loss所能代表的，是使用推荐系统用户的综合体验。除了采用更多代表不同体验侧面的评估指标外（准确率、召回率、覆盖率、多样性等），还会从两个方面收集数据做分析：\n",
    "\n",
    "（1）行为日志：如用户对推荐内容的点击率，阅读市场，发表评论，甚至产生消费行为等。\n",
    "\n",
    "（2）人工评估：选取不同具有代表性的评估员，从兴趣相关度、内容质量、多样性、时效性等多个维度评估。如果评估员就是用户，通常是以问卷调研的情况下发和收集。\n",
    "\n",
    "其中，多样性的指标是针对探索性目标的。而推荐的覆盖度也很重要，代表了所有的内容有多少能够被推荐系统送到用户面前。如果推荐每次只集中在少量的内容，大部分内容无法获得用户流量的化，会影响系统内容生态的健康。比如电商平台如果只推荐少量大商家的产品给用户，多数小商家无法获得购物流量，会导致平台上的商家集中度越来越高，生态不再繁荣稳定。\n",
    "\n",
    "从上述几点可见，搭建一套实用的推荐系统，不只是一个有效的推荐模型。要从业务的需求场景出发，构建完整的推荐系统，最后再实现模型的部分。如果技术人员的视野只局限于模型本身，是无法在工业实践中搭建一套有业务价值的推荐系统的。\n",
    "\n",
    "<center><img src=\"https://ai-studio-static-online.cdn.bcebos.com/2fd11d4690c84fa8963bfbf30e821a5c787cd0e8cd8a4371a8b43fdafe0d8dd8\" width=\"400\" ></center>\n",
    "\n",
    "<center>图3：推荐系统的全流程</center>\n",
    "<br>\n"
   ]
  },
  {
   "cell_type": "markdown",
   "metadata": {
    "collapsed": false
   },
   "source": [
    "#   作业 10-3\n",
    "\n",
    "## 作业1：设计完成两个推荐系统，根据相似用户推荐电影（user-based）和 根据相似电影推荐电影（item-based），并分析三个推荐系统的推荐结果差异\n",
    "\n",
    "上文中，我们已经将映射后的用户特征和电影特征向量保存在了本地，通过两者的相似度计算结果进行推荐。\n",
    "\n",
    "实际上，我们还可以计算用户之间的相似度矩阵和电影之间的相似度矩阵，实现根据相似用户推荐电影和根据相似电影推荐电影。\n",
    "\n",
    "\n",
    "## 作业2：构建一个【热门】、【新品】和【个性化推荐】三条推荐路径的混合系统\n",
    "\n",
    "构建更贴近真实场景的推荐系统，而不仅是个性化推荐模型，每次推荐10条，三种各占比例2、3、5条，每次的推荐结果不同。\n",
    "\n",
    "\n",
    "## 作业3：推荐系统的案例，实现本地的版本（非Aistudio上实现），进行训练和预测并截图提交\n",
    "\n",
    "有助于大家掌握脱离AI studio平台，使用本地机器完成建模的能力。\n",
    "\n"
   ]
  }
 ],
 "metadata": {
  "kernelspec": {
   "display_name": "PaddlePaddle 1.6.0 (Python 3.5)",
   "language": "python",
   "name": "py35-paddle1.2.0"
  },
  "language_info": {
   "codemirror_mode": {
    "name": "ipython",
    "version": 3
   },
   "file_extension": ".py",
   "mimetype": "text/x-python",
   "name": "python",
   "nbconvert_exporter": "python",
   "pygments_lexer": "ipython3",
   "version": "3.7.4"
  }
 },
 "nbformat": 4,
 "nbformat_minor": 1
}
